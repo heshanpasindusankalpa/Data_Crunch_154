{
 "cells": [
  {
   "cell_type": "code",
   "execution_count": 5,
   "metadata": {},
   "outputs": [
    {
     "name": "stdout",
     "output_type": "stream",
     "text": [
      "<class 'pandas.core.frame.DataFrame'>\n",
      "RangeIndex: 84960 entries, 0 to 84959\n",
      "Data columns (total 17 columns):\n",
      " #   Column                        Non-Null Count  Dtype  \n",
      "---  ------                        --------------  -----  \n",
      " 0   ID                            84960 non-null  int64  \n",
      " 1   Year                          84960 non-null  int64  \n",
      " 2   Month                         84960 non-null  int64  \n",
      " 3   Day                           84960 non-null  int64  \n",
      " 4   kingdom                       84960 non-null  object \n",
      " 5   latitude                      84960 non-null  float64\n",
      " 6   longitude                     84960 non-null  float64\n",
      " 7   Avg_Temperature               84960 non-null  float64\n",
      " 8   Avg_Feels_Like_Temperature    84960 non-null  float64\n",
      " 9   Temperature_Range             84960 non-null  float64\n",
      " 10  Feels_Like_Temperature_Range  84960 non-null  float64\n",
      " 11  Radiation                     84960 non-null  float64\n",
      " 12  Rain_Amount                   84960 non-null  float64\n",
      " 13  Rain_Duration                 84960 non-null  int64  \n",
      " 14  Wind_Speed                    84960 non-null  float64\n",
      " 15  Wind_Direction                84960 non-null  int64  \n",
      " 16  Evapotranspiration            84960 non-null  float64\n",
      "dtypes: float64(10), int64(6), object(1)\n",
      "memory usage: 11.0+ MB\n",
      "None\n",
      "   ID  Year  Month  Day   kingdom   latitude  longitude  Avg_Temperature  \\\n",
      "0   1     1      4    1   Arcadia  24.280002 -37.229980            25.50   \n",
      "1   2     1      4    1  Atlantis  22.979999 -37.329990           299.65   \n",
      "2   3     1      4    1    Avalon  22.880000 -37.130006            26.30   \n",
      "3   4     1      4    1   Camelot  24.180003 -36.929994            24.00   \n",
      "4   5     1      4    1     Dorne  25.780002 -37.530000            28.00   \n",
      "\n",
      "   Avg_Feels_Like_Temperature  Temperature_Range  \\\n",
      "0                       30.50                8.5   \n",
      "1                      305.15                5.9   \n",
      "2                       31.50                5.2   \n",
      "3                       28.40                8.2   \n",
      "4                       32.80                5.7   \n",
      "\n",
      "   Feels_Like_Temperature_Range  Radiation  Rain_Amount  Rain_Duration  \\\n",
      "0                          10.3      22.52        58.89             16   \n",
      "1                           8.2      22.73        11.83             12   \n",
      "2                           6.4      22.73        11.83             12   \n",
      "3                          10.7      22.67        75.27             16   \n",
      "4                          10.2      22.35         4.81              8   \n",
      "\n",
      "   Wind_Speed  Wind_Direction  Evapotranspiration  \n",
      "0         8.6             283            1.648659  \n",
      "1        15.8             161            1.583094  \n",
      "2        15.8             161            1.593309  \n",
      "3         6.4             346            1.638997  \n",
      "4        16.7             185            1.719189  \n",
      "(84960, 17)\n"
     ]
    }
   ],
   "source": [
    "import pandas as pd\n",
    "df = pd.read_csv('train.csv')  \n",
    "print(df.info())\n",
    "print(df.head())\n",
    "print(df.shape)"
   ]
  },
  {
   "cell_type": "code",
   "execution_count": 5,
   "metadata": {},
   "outputs": [
    {
     "name": "stdout",
     "output_type": "stream",
     "text": [
      "\n",
      "Missing Values:\n",
      "ID                              0\n",
      "Year                            0\n",
      "Month                           0\n",
      "Day                             0\n",
      "kingdom                         0\n",
      "latitude                        0\n",
      "longitude                       0\n",
      "Avg_Temperature                 0\n",
      "Avg_Feels_Like_Temperature      0\n",
      "Temperature_Range               0\n",
      "Feels_Like_Temperature_Range    0\n",
      "Radiation                       0\n",
      "Rain_Amount                     0\n",
      "Rain_Duration                   0\n",
      "Wind_Speed                      0\n",
      "Wind_Direction                  0\n",
      "Evapotranspiration              0\n",
      "dtype: int64\n"
     ]
    }
   ],
   "source": [
    "import pandas as pd\n",
    "\n",
    "df = pd.read_csv(\"train.csv\")\n",
    "\n",
    "# Display basic info\n",
    "#print(\"Dataset Info:\")\n",
    "#print(df.info())\n",
    "\n",
    "# Check missing values\n",
    "print(\"\\nMissing Values:\")\n",
    "print(df.isnull().sum())\n",
    "\n"
   ]
  },
  {
   "cell_type": "code",
   "execution_count": 7,
   "metadata": {},
   "outputs": [
    {
     "name": "stdout",
     "output_type": "stream",
     "text": [
      "                 ID          Year         Month           Day      latitude  \\\n",
      "count  84960.000000  84960.000000  84960.000000  84960.000000  84960.000000   \n",
      "mean   42480.500000      4.610876      6.666667     15.735876     24.003334   \n",
      "std    24525.983772      2.239331      3.402793      8.802867      0.798622   \n",
      "min        1.000000      1.000000      1.000000      1.000000     22.880000   \n",
      "25%    21240.750000      3.000000      4.000000      8.000000     23.680003   \n",
      "50%    42480.500000      5.000000      7.000000     16.000000     23.780002   \n",
      "75%    63720.250000      7.000000     10.000000     23.000000     24.280002   \n",
      "max    84960.000000      8.000000     12.000000     31.000000     26.580005   \n",
      "\n",
      "          longitude  Avg_Temperature  Avg_Feels_Like_Temperature  \\\n",
      "count  84960.000000     84960.000000                84960.000000   \n",
      "mean     -37.266665       135.600751                  139.735375   \n",
      "std        0.488873       133.650417                  133.937168   \n",
      "min      -37.729980        18.600000                   18.700000   \n",
      "25%      -37.630006        26.300000                   30.300000   \n",
      "50%      -37.530000        28.100000                   32.500000   \n",
      "75%      -37.130006       299.350000                  303.850000   \n",
      "max      -35.729980       303.650000                  309.650000   \n",
      "\n",
      "       Temperature_Range  Feels_Like_Temperature_Range     Radiation  \\\n",
      "count       84960.000000                  84960.000000  84960.000000   \n",
      "mean            5.345287                      6.361224     20.338598   \n",
      "std             1.977739                      2.371880      4.118938   \n",
      "min             0.500000                      0.800000      3.190000   \n",
      "25%             3.800000                      4.500000     18.070000   \n",
      "50%             5.100000                      6.200000     20.960000   \n",
      "75%             6.500000                      8.000000     23.300000   \n",
      "max            15.400000                     17.300000     30.100000   \n",
      "\n",
      "        Rain_Amount  Rain_Duration    Wind_Speed  Wind_Direction  \\\n",
      "count  84960.000000   84960.000000  84960.000000    84960.000000   \n",
      "mean       7.723850       8.895680     15.629291      215.831297   \n",
      "std       13.477186       7.231531      6.198760       93.917858   \n",
      "min        0.000000       0.000000      2.300000        0.000000   \n",
      "25%        0.520000       2.000000     11.100000      119.000000   \n",
      "50%        3.380000       8.000000     15.100000      255.000000   \n",
      "75%        9.490000      15.000000     19.000000      286.000000   \n",
      "max      440.440000      24.000000     50.200000      359.000000   \n",
      "\n",
      "       Evapotranspiration  \n",
      "count        84960.000000  \n",
      "mean             1.568724  \n",
      "std              0.219856  \n",
      "min              0.425268  \n",
      "25%              1.451614  \n",
      "50%              1.589235  \n",
      "75%              1.715598  \n",
      "max              2.212660  \n"
     ]
    }
   ],
   "source": [
    "print(df.describe())"
   ]
  },
  {
   "cell_type": "code",
   "execution_count": 9,
   "metadata": {},
   "outputs": [
    {
     "name": "stderr",
     "output_type": "stream",
     "text": [
      "C:\\Users\\ASUS\\AppData\\Local\\Temp\\ipykernel_10128\\1797041205.py:1: UserWarning: Could not infer format, so each element will be parsed individually, falling back to `dateutil`. To ensure parsing is consistent and as-expected, please specify a format.\n",
      "  df[\"Date\"] = pd.to_datetime(df[['Year', 'Month', 'Day']].astype(str).agg('-'.join, axis=1))\n"
     ]
    }
   ],
   "source": [
    "df[\"Date\"] = pd.to_datetime(df[['Year', 'Month', 'Day']].astype(str).agg('-'.join, axis=1))\n",
    "df = df.sort_values(by=\"Date\")  # Sort by Date\n",
    "\n"
   ]
  },
  {
   "cell_type": "code",
   "execution_count": 12,
   "metadata": {},
   "outputs": [
    {
     "name": "stdout",
     "output_type": "stream",
     "text": [
      "<class 'pandas.core.frame.DataFrame'>\n",
      "RangeIndex: 4530 entries, 0 to 4529\n",
      "Data columns (total 5 columns):\n",
      " #   Column   Non-Null Count  Dtype \n",
      "---  ------   --------------  ----- \n",
      " 0   ID       4530 non-null   int64 \n",
      " 1   Year     4530 non-null   int64 \n",
      " 2   Month    4530 non-null   int64 \n",
      " 3   Day      4530 non-null   int64 \n",
      " 4   kingdom  4530 non-null   object\n",
      "dtypes: int64(4), object(1)\n",
      "memory usage: 177.1+ KB\n",
      "None\n",
      "      ID  Year  Month  Day   kingdom\n",
      "0  84961     9      1    1   Arcadia\n",
      "1  84962     9      1    1  Atlantis\n",
      "2  84963     9      1    1    Avalon\n",
      "3  84964     9      1    1   Camelot\n",
      "4  84965     9      1    1     Dorne\n",
      "(4530, 5)\n"
     ]
    }
   ],
   "source": [
    "df2 = pd.read_csv(\"test.csv\")\n",
    "print(df2.info())\n",
    "print(df2.head())\n",
    "print(df2.shape)"
   ]
  },
  {
   "cell_type": "code",
   "execution_count": null,
   "metadata": {},
   "outputs": [],
   "source": []
  }
 ],
 "metadata": {
  "kernelspec": {
   "display_name": "Python 3",
   "language": "python",
   "name": "python3"
  },
  "language_info": {
   "codemirror_mode": {
    "name": "ipython",
    "version": 3
   },
   "file_extension": ".py",
   "mimetype": "text/x-python",
   "name": "python",
   "nbconvert_exporter": "python",
   "pygments_lexer": "ipython3",
   "version": "3.13.1"
  }
 },
 "nbformat": 4,
 "nbformat_minor": 2
}
