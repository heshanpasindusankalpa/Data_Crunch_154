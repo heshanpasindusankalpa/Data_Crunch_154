{
 "cells": [
  {
   "cell_type": "code",
   "execution_count": 5,
   "metadata": {},
   "outputs": [
    {
     "name": "stdout",
     "output_type": "stream",
     "text": [
      "<class 'pandas.core.frame.DataFrame'>\n",
      "RangeIndex: 84960 entries, 0 to 84959\n",
      "Data columns (total 17 columns):\n",
      " #   Column                        Non-Null Count  Dtype  \n",
      "---  ------                        --------------  -----  \n",
      " 0   ID                            84960 non-null  int64  \n",
      " 1   Year                          84960 non-null  int64  \n",
      " 2   Month                         84960 non-null  int64  \n",
      " 3   Day                           84960 non-null  int64  \n",
      " 4   kingdom                       84960 non-null  object \n",
      " 5   latitude                      84960 non-null  float64\n",
      " 6   longitude                     84960 non-null  float64\n",
      " 7   Avg_Temperature               84960 non-null  float64\n",
      " 8   Avg_Feels_Like_Temperature    84960 non-null  float64\n",
      " 9   Temperature_Range             84960 non-null  float64\n",
      " 10  Feels_Like_Temperature_Range  84960 non-null  float64\n",
      " 11  Radiation                     84960 non-null  float64\n",
      " 12  Rain_Amount                   84960 non-null  float64\n",
      " 13  Rain_Duration                 84960 non-null  int64  \n",
      " 14  Wind_Speed                    84960 non-null  float64\n",
      " 15  Wind_Direction                84960 non-null  int64  \n",
      " 16  Evapotranspiration            84960 non-null  float64\n",
      "dtypes: float64(10), int64(6), object(1)\n",
      "memory usage: 11.0+ MB\n",
      "None\n",
      "   ID  Year  Month  Day   kingdom   latitude  longitude  Avg_Temperature  \\\n",
      "0   1     1      4    1   Arcadia  24.280002 -37.229980            25.50   \n",
      "1   2     1      4    1  Atlantis  22.979999 -37.329990           299.65   \n",
      "2   3     1      4    1    Avalon  22.880000 -37.130006            26.30   \n",
      "3   4     1      4    1   Camelot  24.180003 -36.929994            24.00   \n",
      "4   5     1      4    1     Dorne  25.780002 -37.530000            28.00   \n",
      "\n",
      "   Avg_Feels_Like_Temperature  Temperature_Range  \\\n",
      "0                       30.50                8.5   \n",
      "1                      305.15                5.9   \n",
      "2                       31.50                5.2   \n",
      "3                       28.40                8.2   \n",
      "4                       32.80                5.7   \n",
      "\n",
      "   Feels_Like_Temperature_Range  Radiation  Rain_Amount  Rain_Duration  \\\n",
      "0                          10.3      22.52        58.89             16   \n",
      "1                           8.2      22.73        11.83             12   \n",
      "2                           6.4      22.73        11.83             12   \n",
      "3                          10.7      22.67        75.27             16   \n",
      "4                          10.2      22.35         4.81              8   \n",
      "\n",
      "   Wind_Speed  Wind_Direction  Evapotranspiration  \n",
      "0         8.6             283            1.648659  \n",
      "1        15.8             161            1.583094  \n",
      "2        15.8             161            1.593309  \n",
      "3         6.4             346            1.638997  \n",
      "4        16.7             185            1.719189  \n",
      "(84960, 17)\n"
     ]
    }
   ],
   "source": [
    "import pandas as pd\n",
    "df = pd.read_csv('train.csv')  \n",
    "print(df.info())\n",
    "print(df.head())\n",
    "print(df.shape)"
   ]
  },
  {
   "cell_type": "code",
   "execution_count": null,
   "metadata": {},
   "outputs": [],
   "source": []
  }
 ],
 "metadata": {
  "kernelspec": {
   "display_name": "Python 3",
   "language": "python",
   "name": "python3"
  },
  "language_info": {
   "codemirror_mode": {
    "name": "ipython",
    "version": 3
   },
   "file_extension": ".py",
   "mimetype": "text/x-python",
   "name": "python",
   "nbconvert_exporter": "python",
   "pygments_lexer": "ipython3",
   "version": "3.13.1"
  }
 },
 "nbformat": 4,
 "nbformat_minor": 2
}
